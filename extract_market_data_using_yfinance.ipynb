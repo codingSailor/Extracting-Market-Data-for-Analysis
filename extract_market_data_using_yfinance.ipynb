{
 "cells": [
  {
   "cell_type": "code",
   "execution_count": 2,
   "metadata": {},
   "outputs": [
    {
     "name": "stderr",
     "output_type": "stream",
     "text": [
      "UsageError: Line magic function `%matplotlib_inline` not found.\n"
     ]
    }
   ],
   "source": [
    "import yfinance as yf\n",
    "import pandas as pd\n",
    "import matplotlib.pyplot as plt\n"
   ]
  },
  {
   "cell_type": "code",
   "execution_count": 44,
   "metadata": {},
   "outputs": [],
   "source": [
    "# You can get ticker id from 'https://finance.yahoo.com/'\n",
    "\n",
    "ticker_id = 'TATAMOTORS.NS'\n",
    "stock_obj = yf.Ticker(ticker_id)\n",
    "stock_information = stock_obj.info"
   ]
  },
  {
   "cell_type": "code",
   "execution_count": 49,
   "metadata": {},
   "outputs": [],
   "source": [
    "# There's alot more information you can get through stock_obj.info go through it.\n",
    "\n",
    "# Extracting few which are most useful for analysis.\n",
    "\n",
    "stock_info = {\n",
    "    'previousClose': stock_information['previousClose'],\n",
    "    'open': stock_information['open'],\n",
    "    'dayLow': stock_information['dayLow'],\n",
    "    'dayHigh': stock_information['dayHigh'],\n",
    "    'regularMarketPreviousClose': stock_information['regularMarketPreviousClose'],\n",
    "    'regularMarketOpen': stock_information['regularMarketOpen'],\n",
    "    'regularMarketDayLow': stock_information['regularMarketDayLow'],\n",
    "    'regularMarketDayHigh': stock_information['regularMarketDayHigh'],\n",
    "    'exDividendDate': stock_information['exDividendDate'],\n",
    "    'payoutRatio': stock_information['payoutRatio'],\n",
    "    'trailingPE': stock_information['trailingPE'],\n",
    "    'volume': stock_information['volume'],\n",
    "    'regularMarketVolume': stock_information['regularMarketVolume'],\n",
    "    'averageVolume': stock_information['averageVolume'],\n",
    "    'averageVolume10days': stock_information['averageVolume10days'],\n",
    "    'averageDailyVolume10Day': stock_information['averageDailyVolume10Day'],\n",
    "}"
   ]
  },
  {
   "cell_type": "code",
   "execution_count": 77,
   "metadata": {},
   "outputs": [],
   "source": [
    "# You can get stock history directly in pandas dataframe.\n",
    "\n",
    "# Valid periods params: 1d,5d,1mo,3mo,6mo,1y,2y,5y,10y,ytd,max\n",
    "# Valid intervals params: 1m,2m,5m,15m,30m,60m,90m,1h,1d,5d,1wk,1mo,3mo \n",
    "\n",
    "stock_price_history = stock_obj.history(period=\"5d\")"
   ]
  },
  {
   "cell_type": "code",
   "execution_count": 58,
   "metadata": {},
   "outputs": [],
   "source": [
    "# Extracting history from particular start and end date\n",
    "\n",
    "stock_price_history = stock_obj.history(start='2020-03-01', end='2023-04-01', interval='1mo')"
   ]
  },
  {
   "cell_type": "code",
   "execution_count": 64,
   "metadata": {},
   "outputs": [
    {
     "data": {
      "text/html": [
       "<div>\n",
       "<style scoped>\n",
       "    .dataframe tbody tr th:only-of-type {\n",
       "        vertical-align: middle;\n",
       "    }\n",
       "\n",
       "    .dataframe tbody tr th {\n",
       "        vertical-align: top;\n",
       "    }\n",
       "\n",
       "    .dataframe thead th {\n",
       "        text-align: right;\n",
       "    }\n",
       "</style>\n",
       "<table border=\"1\" class=\"dataframe\">\n",
       "  <thead>\n",
       "    <tr style=\"text-align: right;\">\n",
       "      <th></th>\n",
       "    </tr>\n",
       "  </thead>\n",
       "  <tbody>\n",
       "  </tbody>\n",
       "</table>\n",
       "</div>"
      ],
      "text/plain": [
       "Empty DataFrame\n",
       "Columns: []\n",
       "Index: []"
      ]
     },
     "execution_count": 64,
     "metadata": {},
     "output_type": "execute_result"
    }
   ],
   "source": [
    "share_holder_distribution = stock_obj.major_holders"
   ]
  },
  {
   "cell_type": "code",
   "execution_count": 75,
   "metadata": {},
   "outputs": [
    {
     "name": "stdout",
     "output_type": "stream",
     "text": [
      "[*********************100%***********************]  1 of 1 completed\n"
     ]
    }
   ],
   "source": [
    "# TO download price history in a table\n",
    "\n",
    "data = yf.download(ticker_id, start=\"2022-01-01\", end=\"2023-04-30\")\n",
    "# data\n"
   ]
  },
  {
   "cell_type": "code",
   "execution_count": 76,
   "metadata": {},
   "outputs": [],
   "source": [
    "# Chart Plotting"
   ]
  },
  {
   "cell_type": "code",
   "execution_count": null,
   "metadata": {},
   "outputs": [],
   "source": []
  }
 ],
 "metadata": {
  "kernelspec": {
   "display_name": "Python 3",
   "language": "python",
   "name": "python3"
  },
  "language_info": {
   "codemirror_mode": {
    "name": "ipython",
    "version": 3
   },
   "file_extension": ".py",
   "mimetype": "text/x-python",
   "name": "python",
   "nbconvert_exporter": "python",
   "pygments_lexer": "ipython3",
   "version": "3.8.10"
  },
  "orig_nbformat": 4
 },
 "nbformat": 4,
 "nbformat_minor": 2
}
