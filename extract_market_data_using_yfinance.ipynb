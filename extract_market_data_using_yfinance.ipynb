{
 "cells": [
  {
   "cell_type": "code",
   "execution_count": 2,
   "metadata": {},
   "outputs": [],
   "source": [
    "import yfinance as yf\n",
    "import pandas as pd\n",
    "import matplotlib.pyplot as plt\n"
   ]
  },
  {
   "cell_type": "code",
   "execution_count": 3,
   "metadata": {},
   "outputs": [],
   "source": [
    "# You can get ticker id from 'https://finance.yahoo.com/'\n",
    "\n",
    "ticker_id = 'TATAMOTORS.NS'\n",
    "stock_obj = yf.Ticker(ticker_id)\n",
    "stock_information = stock_obj.info"
   ]
  },
  {
   "cell_type": "code",
   "execution_count": 49,
   "metadata": {},
   "outputs": [],
   "source": [
    "# There's alot more information you can get through stock_obj.info go through it.\n",
    "\n",
    "# Extracting few which are most useful for analysis.\n",
    "\n",
    "stock_info = {\n",
    "    'previousClose': stock_information['previousClose'],\n",
    "    'open': stock_information['open'],\n",
    "    'dayLow': stock_information['dayLow'],\n",
    "    'dayHigh': stock_information['dayHigh'],\n",
    "    'regularMarketPreviousClose': stock_information['regularMarketPreviousClose'],\n",
    "    'regularMarketOpen': stock_information['regularMarketOpen'],\n",
    "    'regularMarketDayLow': stock_information['regularMarketDayLow'],\n",
    "    'regularMarketDayHigh': stock_information['regularMarketDayHigh'],\n",
    "    'exDividendDate': stock_information['exDividendDate'],\n",
    "    'payoutRatio': stock_information['payoutRatio'],\n",
    "    'trailingPE': stock_information['trailingPE'],\n",
    "    'volume': stock_information['volume'],\n",
    "    'regularMarketVolume': stock_information['regularMarketVolume'],\n",
    "    'averageVolume': stock_information['averageVolume'],\n",
    "    'averageVolume10days': stock_information['averageVolume10days'],\n",
    "    'averageDailyVolume10Day': stock_information['averageDailyVolume10Day'],\n",
    "}"
   ]
  },
  {
   "cell_type": "code",
   "execution_count": 4,
   "metadata": {},
   "outputs": [],
   "source": [
    "# You can get stock history directly in pandas dataframe.\n",
    "\n",
    "# Valid periods params: 1d,5d,1mo,3mo,6mo,1y,2y,5y,10y,ytd,max\n",
    "# Valid intervals params: 1m,2m,5m,15m,30m,60m,90m,1h,1d,5d,1wk,1mo,3mo \n",
    "\n",
    "stock_price_history = stock_obj.history(period=\"5d\")"
   ]
  },
  {
   "cell_type": "code",
   "execution_count": 58,
   "metadata": {},
   "outputs": [],
   "source": [
    "# Extracting history from particular start and end date\n",
    "\n",
    "stock_price_history = stock_obj.history(start='2020-03-01', end='2023-04-01', interval='1mo')"
   ]
  },
  {
   "cell_type": "code",
   "execution_count": 64,
   "metadata": {},
   "outputs": [
    {
     "data": {
      "text/html": [
       "<div>\n",
       "<style scoped>\n",
       "    .dataframe tbody tr th:only-of-type {\n",
       "        vertical-align: middle;\n",
       "    }\n",
       "\n",
       "    .dataframe tbody tr th {\n",
       "        vertical-align: top;\n",
       "    }\n",
       "\n",
       "    .dataframe thead th {\n",
       "        text-align: right;\n",
       "    }\n",
       "</style>\n",
       "<table border=\"1\" class=\"dataframe\">\n",
       "  <thead>\n",
       "    <tr style=\"text-align: right;\">\n",
       "      <th></th>\n",
       "    </tr>\n",
       "  </thead>\n",
       "  <tbody>\n",
       "  </tbody>\n",
       "</table>\n",
       "</div>"
      ],
      "text/plain": [
       "Empty DataFrame\n",
       "Columns: []\n",
       "Index: []"
      ]
     },
     "execution_count": 64,
     "metadata": {},
     "output_type": "execute_result"
    }
   ],
   "source": [
    "share_holder_distribution = stock_obj.major_holders"
   ]
  },
  {
   "cell_type": "code",
   "execution_count": 8,
   "metadata": {},
   "outputs": [
    {
     "name": "stdout",
     "output_type": "stream",
     "text": [
      "[*********************100%***********************]  1 of 1 completed\n"
     ]
    },
    {
     "name": "stderr",
     "output_type": "stream",
     "text": [
      "/tmp/ipykernel_10155/381891629.py:5: FutureWarning: Indexing a DataFrame with a datetimelike index using a single string to slice the rows, like `frame[string]`, is deprecated and will be removed in a future version. Use `frame.loc[string]` instead.\n",
      "  stock_price_history['2023']\n"
     ]
    },
    {
     "data": {
      "text/html": [
       "<div>\n",
       "<style scoped>\n",
       "    .dataframe tbody tr th:only-of-type {\n",
       "        vertical-align: middle;\n",
       "    }\n",
       "\n",
       "    .dataframe tbody tr th {\n",
       "        vertical-align: top;\n",
       "    }\n",
       "\n",
       "    .dataframe thead th {\n",
       "        text-align: right;\n",
       "    }\n",
       "</style>\n",
       "<table border=\"1\" class=\"dataframe\">\n",
       "  <thead>\n",
       "    <tr style=\"text-align: right;\">\n",
       "      <th></th>\n",
       "      <th>Open</th>\n",
       "      <th>High</th>\n",
       "      <th>Low</th>\n",
       "      <th>Close</th>\n",
       "      <th>Volume</th>\n",
       "      <th>Dividends</th>\n",
       "      <th>Stock Splits</th>\n",
       "    </tr>\n",
       "    <tr>\n",
       "      <th>Date</th>\n",
       "      <th></th>\n",
       "      <th></th>\n",
       "      <th></th>\n",
       "      <th></th>\n",
       "      <th></th>\n",
       "      <th></th>\n",
       "      <th></th>\n",
       "    </tr>\n",
       "  </thead>\n",
       "  <tbody>\n",
       "    <tr>\n",
       "      <th>2023-06-06 00:00:00+05:30</th>\n",
       "      <td>549.450012</td>\n",
       "      <td>557.000000</td>\n",
       "      <td>545.349976</td>\n",
       "      <td>555.750000</td>\n",
       "      <td>15395092</td>\n",
       "      <td>0.0</td>\n",
       "      <td>0.0</td>\n",
       "    </tr>\n",
       "    <tr>\n",
       "      <th>2023-06-07 00:00:00+05:30</th>\n",
       "      <td>558.799988</td>\n",
       "      <td>575.000000</td>\n",
       "      <td>552.150024</td>\n",
       "      <td>567.950012</td>\n",
       "      <td>20855239</td>\n",
       "      <td>0.0</td>\n",
       "      <td>0.0</td>\n",
       "    </tr>\n",
       "    <tr>\n",
       "      <th>2023-06-08 00:00:00+05:30</th>\n",
       "      <td>570.000000</td>\n",
       "      <td>576.549988</td>\n",
       "      <td>557.000000</td>\n",
       "      <td>559.700012</td>\n",
       "      <td>21527339</td>\n",
       "      <td>0.0</td>\n",
       "      <td>0.0</td>\n",
       "    </tr>\n",
       "    <tr>\n",
       "      <th>2023-06-09 00:00:00+05:30</th>\n",
       "      <td>564.400024</td>\n",
       "      <td>566.450012</td>\n",
       "      <td>559.299988</td>\n",
       "      <td>562.299988</td>\n",
       "      <td>9361533</td>\n",
       "      <td>0.0</td>\n",
       "      <td>0.0</td>\n",
       "    </tr>\n",
       "    <tr>\n",
       "      <th>2023-06-12 00:00:00+05:30</th>\n",
       "      <td>567.000000</td>\n",
       "      <td>568.900024</td>\n",
       "      <td>560.650024</td>\n",
       "      <td>565.849976</td>\n",
       "      <td>6374701</td>\n",
       "      <td>0.0</td>\n",
       "      <td>0.0</td>\n",
       "    </tr>\n",
       "  </tbody>\n",
       "</table>\n",
       "</div>"
      ],
      "text/plain": [
       "                                 Open        High         Low       Close  \\\n",
       "Date                                                                        \n",
       "2023-06-06 00:00:00+05:30  549.450012  557.000000  545.349976  555.750000   \n",
       "2023-06-07 00:00:00+05:30  558.799988  575.000000  552.150024  567.950012   \n",
       "2023-06-08 00:00:00+05:30  570.000000  576.549988  557.000000  559.700012   \n",
       "2023-06-09 00:00:00+05:30  564.400024  566.450012  559.299988  562.299988   \n",
       "2023-06-12 00:00:00+05:30  567.000000  568.900024  560.650024  565.849976   \n",
       "\n",
       "                             Volume  Dividends  Stock Splits  \n",
       "Date                                                          \n",
       "2023-06-06 00:00:00+05:30  15395092        0.0           0.0  \n",
       "2023-06-07 00:00:00+05:30  20855239        0.0           0.0  \n",
       "2023-06-08 00:00:00+05:30  21527339        0.0           0.0  \n",
       "2023-06-09 00:00:00+05:30   9361533        0.0           0.0  \n",
       "2023-06-12 00:00:00+05:30   6374701        0.0           0.0  "
      ]
     },
     "execution_count": 8,
     "metadata": {},
     "output_type": "execute_result"
    }
   ],
   "source": [
    "# TO download price history in a table\n",
    "\n",
    "data = yf.download(ticker_id, start=\"2022-01-01\", end=\"2023-04-30\")\n",
    "\n",
    "stock_price_history['2023']"
   ]
  },
  {
   "cell_type": "code",
   "execution_count": 47,
   "metadata": {},
   "outputs": [
    {
     "data": {
      "image/png": "[encoded data removed]",
      "text/plain": [
       "<Figure size 1000x500 with 1 Axes>"
      ]
     },
     "metadata": {},
     "output_type": "display_data"
    }
   ],
   "source": [
    "# Chart Plotting\n",
    "\n",
    "import matplotlib.pyplot as plt\n",
    "# %matplotlib inline\n",
    "\n",
    "plt.plot(stock_price_history.index, stock_price_history.Open, color='red')\n",
    "plt.plot(stock_price_history.index,stock_price_history.Close, color='green')\n",
    "plt.rcParams['figure.figsize'] = [10, 5]"
   ]
  },
  {
   "cell_type": "code",
   "execution_count": null,
   "metadata": {},
   "outputs": [],
   "source": []
  },
  {
   "cell_type": "code",
   "execution_count": null,
   "metadata": {},
   "outputs": [],
   "source": []
  }
 ],
 "metadata": {
  "kernelspec": {
   "display_name": "Python 3",
   "language": "python",
   "name": "python3"
  },
  "language_info": {
   "codemirror_mode": {
    "name": "ipython",
    "version": 3
   },
   "file_extension": ".py",
   "mimetype": "text/x-python",
   "name": "python",
   "nbconvert_exporter": "python",
   "pygments_lexer": "ipython3",
   "version": "3.8.10"
  },
  "orig_nbformat": 4
 },
 "nbformat": 4,
 "nbformat_minor": 2
}
