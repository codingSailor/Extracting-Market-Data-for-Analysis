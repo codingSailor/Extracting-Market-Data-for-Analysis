{
 "cells": [
  {
   "cell_type": "code",
   "execution_count": 6,
   "metadata": {},
   "outputs": [],
   "source": [
    "# Extracting BSE market data\n",
    "\n",
    "from bsedata.bse import BSE\n",
    "from re import search\n",
    "from pprint import pprint\n",
    "\n",
    "bse = BSE(update_codes = True)\n"
   ]
  },
  {
   "cell_type": "code",
   "execution_count": 7,
   "metadata": {},
   "outputs": [],
   "source": [
    "# You can search stock quote by bse codes, here yahoo finance and google finance script codes won't work.\n",
    "\n",
    "code_list = bse.getScripCodes() \n",
    "\n",
    "for x,y in code_list.items():\n",
    "    code_list[x] = y.lower()\n"
   ]
  },
  {
   "cell_type": "code",
   "execution_count": 8,
   "metadata": {},
   "outputs": [
    {
     "name": "stdout",
     "output_type": "stream",
     "text": [
      "532648\n",
      "{'2WeekAvgQuantity': '187.90 Lakh',\n",
      " '52weekHigh': '24.75',\n",
      " '52weekLow': '12.26',\n",
      " 'buy': {'1': {'price': '0.00', 'quantity': '-'},\n",
      "         '2': {'price': '0.00', 'quantity': '-'},\n",
      "         '3': {'price': '0.00', 'quantity': '-'},\n",
      "         '4': {'price': '0.00', 'quantity': '-'},\n",
      "         '5': {'price': '0.00', 'quantity': '-'}},\n",
      " 'change': '-0.19',\n",
      " 'companyName': 'YES BANK LTD.',\n",
      " 'currentValue': '16.40',\n",
      " 'dayHigh': '16.60',\n",
      " 'dayLow': '16.36',\n",
      " 'faceValue': '2.00',\n",
      " 'group': 'A  / S&P BSE 200',\n",
      " 'industry': 'Financial Services',\n",
      " 'marketCapFreeFloat': '26,408.88 Cr.',\n",
      " 'marketCapFull': '47,158.72 Cr.',\n",
      " 'pChange': '-1.15',\n",
      " 'previousClose': '16.59',\n",
      " 'previousOpen': '16.58',\n",
      " 'scripCode': '532648',\n",
      " 'securityID': 'YESBANK',\n",
      " 'sell': {'1': {'price': '0.00', 'quantity': '-'},\n",
      "          '2': {'price': '0.00', 'quantity': '-'},\n",
      "          '3': {'price': '0.00', 'quantity': '-'},\n",
      "          '4': {'price': '0.00', 'quantity': '-'},\n",
      "          '5': {'price': '0.00', 'quantity': '-'}},\n",
      " 'totalTradedQuantity': '101.45 Lakh',\n",
      " 'totalTradedValue': '16.70 Cr.',\n",
      " 'updatedOn': '12 Jun 23 | 04:00 PM',\n",
      " 'weightedAvgPrice': '16.46'}\n"
     ]
    }
   ],
   "source": [
    "# I have pre_processed the code you can search the company by its name and get the stock quote\n",
    "\n",
    "company_code = ''\n",
    "company_name = str(input('Enter the company name to get :'))\n",
    "\n",
    "for code in code_list:\n",
    "    if company_name in code_list[code]:\n",
    "        company_code = code\n",
    "    else:\n",
    "        pass\n",
    "\n",
    "if company_code == '' :\n",
    "    print('Company Not Found')\n",
    "else :\n",
    "    stock_quote = bse.getQuote(company_code)\n",
    "\n",
    "pprint(stock_quote)\n"
   ]
  },
  {
   "cell_type": "code",
   "execution_count": 70,
   "metadata": {},
   "outputs": [
    {
     "name": "stdout",
     "output_type": "stream",
     "text": [
      "NESTLE INDIA LTD.\n",
      "22290.15\n",
      "12 Jun 23 | 04:01 PM\n"
     ]
    }
   ],
   "source": [
    "# As you can see above there are various params in a json/dictionary format, you can extract required by doing following\n",
    "\n",
    "print(stock_quote[\"companyName\"])\n",
    "print(stock_quote[\"currentValue\"])\n",
    "print(stock_quote[\"updatedOn\"])"
   ]
  },
  {
   "cell_type": "code",
   "execution_count": 71,
   "metadata": {},
   "outputs": [
    {
     "data": {
      "text/plain": [
       "[{'date': 'Fri May 12 2023 00:00:00', 'value': 21800.1, 'vol': 783},\n",
       " {'date': 'Mon May 15 2023 00:00:00', 'value': 21780.1, 'vol': 21951},\n",
       " {'date': 'Tue May 16 2023 00:00:00', 'value': 21782.4, 'vol': 10893},\n",
       " {'date': 'Wed May 17 2023 00:00:00', 'value': 21730.95, 'vol': 1068},\n",
       " {'date': 'Thu May 18 2023 00:00:00', 'value': 21669.9, 'vol': 2093},\n",
       " {'date': 'Fri May 19 2023 00:00:00', 'value': 21698.75, 'vol': 792},\n",
       " {'date': 'Mon May 22 2023 00:00:00', 'value': 21479.15, 'vol': 1341},\n",
       " {'date': 'Tue May 23 2023 00:00:00', 'value': 21392.55, 'vol': 1320},\n",
       " {'date': 'Wed May 24 2023 00:00:00', 'value': 21388.4, 'vol': 633},\n",
       " {'date': 'Thu May 25 2023 00:00:00', 'value': 21472.4, 'vol': 11962},\n",
       " {'date': 'Fri May 26 2023 00:00:00', 'value': 21589.9, 'vol': 2052},\n",
       " {'date': 'Mon May 29 2023 00:00:00', 'value': 21720.95, 'vol': 1580},\n",
       " {'date': 'Tue May 30 2023 00:00:00', 'value': 21572.9, 'vol': 7224},\n",
       " {'date': 'Wed May 31 2023 00:00:00', 'value': 21693.6, 'vol': 2898},\n",
       " {'date': 'Thu Jun 01 2023 00:00:00', 'value': 21858.9, 'vol': 1433},\n",
       " {'date': 'Fri Jun 02 2023 00:00:00', 'value': 22040.6, 'vol': 3210},\n",
       " {'date': 'Mon Jun 05 2023 00:00:00', 'value': 21832.0, 'vol': 1056},\n",
       " {'date': 'Tue Jun 06 2023 00:00:00', 'value': 21701.3, 'vol': 799},\n",
       " {'date': 'Wed Jun 07 2023 00:00:00', 'value': 22380.1, 'vol': 3249},\n",
       " {'date': 'Thu Jun 08 2023 00:00:00', 'value': 22137.5, 'vol': 2384},\n",
       " {'date': 'Fri Jun 09 2023 00:00:00', 'value': 22087.95, 'vol': 639},\n",
       " {'date': 'Mon Jun 12 2023 00:00:00', 'value': 22290.15, 'vol': 1249}]"
      ]
     },
     "execution_count": 71,
     "metadata": {},
     "output_type": "execute_result"
    }
   ],
   "source": [
    "# Check the stock trend for periods, the available period options are '1M', '3M', '6M' and '12M'.\n",
    "\n",
    "stock_trend = bse.getPeriodTrend(scripCode=company_code,timePeriod='1M')\n",
    "stock_trend"
   ]
  },
  {
   "cell_type": "code",
   "execution_count": 75,
   "metadata": {},
   "outputs": [],
   "source": [
    "# Get the list of top gainers on the BSE exchnage\n",
    "gainers_data = bse.topGainers()\n",
    "losers_data = bse.topLosers()"
   ]
  },
  {
   "cell_type": "code",
   "execution_count": 79,
   "metadata": {},
   "outputs": [],
   "source": [
    "'''\n",
    "Use one of the categories mentioned below to get latest updates on indices:\n",
    "\n",
    "market_cap/broad\n",
    "sector_and_industry\n",
    "thematics\n",
    "strategy\n",
    "sustainability\n",
    "volatility\n",
    "composite\n",
    "government\n",
    "corporate\n",
    "money_market\n",
    "\n",
    "'''\n",
    "\n",
    "indices = bse.getIndices(category='sector_and_industry')"
   ]
  }
 ],
 "metadata": {
  "kernelspec": {
   "display_name": "Python 3",
   "language": "python",
   "name": "python3"
  },
  "language_info": {
   "codemirror_mode": {
    "name": "ipython",
    "version": 3
   },
   "file_extension": ".py",
   "mimetype": "text/x-python",
   "name": "python",
   "nbconvert_exporter": "python",
   "pygments_lexer": "ipython3",
   "version": "3.8.10"
  },
  "orig_nbformat": 4
 },
 "nbformat": 4,
 "nbformat_minor": 2
}
